{
  "nbformat": 4,
  "nbformat_minor": 0,
  "metadata": {
    "colab": {
      "provenance": []
    },
    "kernelspec": {
      "name": "python3",
      "display_name": "Python 3"
    },
    "language_info": {
      "name": "python"
    }
  },
  "cells": [
    {
      "cell_type": "markdown",
      "source": [
        "<a href=\"https://colab.research.google.com/github/kiryu-3/Prmn2023_DS/blob/main/Python/Python_Basic/question/PythonBasic_5_Question.ipynb\" target=\"_parent\"><img src=\"https://colab.research.google.com/assets/colab-badge.svg\" alt=\"Open In Colab\"/></a>"
      ],
      "metadata": {
        "id": "TA5kKi-LY1xg"
      }
    },
    {
      "cell_type": "markdown",
      "source": [
        "# 第5章 課題"
      ],
      "metadata": {
        "id": "r-kcfL2yEU8b"
      }
    },
    {
      "cell_type": "markdown",
      "source": [
        "## 課題1"
      ],
      "metadata": {
        "id": "RWo2DmBs_2c4"
      }
    },
    {
      "cell_type": "markdown",
      "source": [
        "1桁の自然数を乱数を使って5つ格納した2つのリストを作ってください。  \n",
        "この時、一つのリスト内で5つの値が重複しないようにしてください\n",
        "\n",
        "その後、そのリストから重複する要素を削除した新しいリストと、   \n",
        "共通の要素を持つ新しいリストを出力してください"
      ],
      "metadata": {
        "id": "QRNvqmTgE8Ww"
      }
    },
    {
      "cell_type": "markdown",
      "source": [
        "＜実行結果例＞\n",
        "``` py  \n",
        "1つ目のリスト：[1, 2, 3, 4, 5]  \n",
        "2つ目のリスト：[1, 3, 5, 7, 9]  \n",
        "重複削除リスト：[1, 2, 3, 4, 5, 7, 9] \n",
        "共通要素リスト：[1, 3, 5]\n",
        "```"
      ],
      "metadata": {
        "id": "Goi4CqGxFOpn"
      }
    },
    {
      "cell_type": "markdown",
      "source": [
        "＜ヒント＞ set関数を用いても用いなくても答えは出せます。"
      ],
      "metadata": {
        "id": "iEOFeFjqkkyS"
      }
    },
    {
      "cell_type": "code",
      "source": [
        "# 入力用\n",
        "import random\n",
        "list1 = []\n",
        "while len(list1) < 5:\n",
        "    new_num = random.randint(1, 9)\n",
        "    if new_num not in list1:\n",
        "        list1.append(new_num)\n",
        "list1=sorted(list1)\n",
        "list2 = []\n",
        "while len(list2) < 5:\n",
        "    new_num = random.randint(1, 9)\n",
        "    if new_num not in list2:\n",
        "        list2.append(new_num)\n",
        "list2=sorted(list2)\n",
        "print(\"１つ目のリスト:\",list1)\n",
        "print(\"２つ目のリスト:\",list2)\n",
        "list3=list1\n",
        "list4=[]\n",
        "for i in range(5):\n",
        "  if list2[i] not in list3:\n",
        "    list3.append(list2[i])\n",
        "  else:\n",
        "    list4.append(list2[i])\n",
        "list3=sorted(list3)\n",
        "print(\"重複削除リスト：\",list3)\n",
        "print(\"共通要素リスト：\",list4)"
      ],
      "metadata": {
        "id": "pQdhCOALMGWj",
        "outputId": "9b7d619b-51f9-453b-879f-ee621ec99d25",
        "colab": {
          "base_uri": "https://localhost:8080/"
        }
      },
      "execution_count": 5,
      "outputs": [
        {
          "output_type": "stream",
          "name": "stdout",
          "text": [
            "１つ目のリスト: [2, 3, 4, 8, 9]\n",
            "２つ目のリスト: [1, 2, 4, 6, 8]\n",
            "重複削除リスト： [1, 2, 3, 4, 6, 8, 9]\n",
            "共通要素リスト： [2, 4, 8]\n"
          ]
        }
      ]
    },
    {
      "cell_type": "markdown",
      "source": [
        "## 課題2"
      ],
      "metadata": {
        "id": "-qZw_n3X8xrW"
      }
    },
    {
      "cell_type": "markdown",
      "source": [
        "共通のキーを持つ辞書を要素とするリストから、特定のキーの値のリストを取得してみます。"
      ],
      "metadata": {
        "id": "vxwATeobQf_U"
      }
    },
    {
      "cell_type": "markdown",
      "source": [
        "以下のリストから、都道府県コード・都道府県・県庁所在地それぞれのリストを作成してください\n",
        "\n",
        "キーが存在しないところがある点に注意してください"
      ],
      "metadata": {
        "id": "tGPa1uU6Qs2c"
      }
    },
    {
      "cell_type": "code",
      "source": [
        "todohuken_data = [{\"コード\": 24, \"都道府県\": \"三重\", \"県庁所在地\": \"津\"},\n",
        "                  {\"コード\": 25, \"都道府県\": \"滋賀\", \"県庁所在地\": \"大津\"},\n",
        "                  {\"コード\": 31, \"都道府県\": \"鳥取\"},\n",
        "                  {\"コード\": 32, \"都道府県\": \"島根\", \"県庁所在地\": \"松江\"},\n",
        "                  {\"コード\": 37, \"都道府県\": \"香川\", \"県庁所在地\": \"高松\"},\n",
        "                  {\"コード\": 38, \"都道府県\": \"愛媛\", \"県庁所在地\": \"松山\"},]"
      ],
      "metadata": {
        "id": "8ZdyRWbERGAY"
      },
      "execution_count": 9,
      "outputs": []
    },
    {
      "cell_type": "markdown",
      "source": [
        "＜出力結果例＞  \n",
        "``` py\n",
        "[24, 25, 31, 32, 37, 38]  \n",
        "['三重', '滋賀', '鳥取', '島根', '香川', '愛媛']\n",
        "['津', '大津', None, '松江', '高松', '松山']\n",
        "```"
      ],
      "metadata": {
        "id": "dQ2n3OMSUXh2"
      }
    },
    {
      "cell_type": "code",
      "source": [
        "# 入力用\n",
        "list1=[]\n",
        "list2=[]\n",
        "list3=[]\n",
        "for i in range(6):\n",
        "  list=todohuken_data[i]\n",
        "  list1.append(list.get(\"コード\"))\n",
        "  list2.append(list.get(\"都道府県\"))\n",
        "  list3.append(list.get(\"県庁所在地\"))\n",
        "print(list1)\n",
        "print(list2)\n",
        "print(list3)"
      ],
      "metadata": {
        "id": "duwCERgQUify",
        "outputId": "59f0716b-44ce-4a8e-826d-acae3639e956",
        "colab": {
          "base_uri": "https://localhost:8080/"
        }
      },
      "execution_count": 21,
      "outputs": [
        {
          "output_type": "stream",
          "name": "stdout",
          "text": [
            "[24, 25, 31, 32, 37, 38]\n",
            "['三重', '滋賀', '鳥取', '島根', '香川', '愛媛']\n",
            "['津', '大津', None, '松江', '高松', '松山']\n"
          ]
        }
      ]
    },
    {
      "cell_type": "markdown",
      "source": [
        "## 課題3"
      ],
      "metadata": {
        "id": "1S8kadYgq_gV"
      }
    },
    {
      "cell_type": "markdown",
      "source": [
        "ある文字列が与えられた場合、文字列内の各文字の出現回数をディクショナリの形で返してください\n",
        "\n",
        "大文字と小文字は区別してください  \n",
        "また、出力時はアルファベット順にソートした状態にしてください"
      ],
      "metadata": {
        "id": "OdSKG7k9rA7V"
      }
    },
    {
      "cell_type": "markdown",
      "source": [
        "＜実行結果例＞　「Hello, World!」の各文字のカウント\n",
        "``` py\n",
        "{'H': 1, 'W': 1, 'd': 1, 'e': 1, 'l': 3, 'o': 2, 'r': 1}\n",
        "```"
      ],
      "metadata": {
        "id": "p0suMufQuEzI"
      }
    },
    {
      "cell_type": "code",
      "source": [
        "# 入力用\n",
        "\n",
        "string = \"Jhon Smith!\"\n",
        "\n",
        "# アルファベット以外の文字を削除 最初に実行してください\n",
        "string = ''.join(c for c in string if c.isalpha())\n",
        "print(string)\n",
        "list=[]\n",
        "for i in range(0,len(string)):\n",
        "  list.append(string[i])\n",
        "print(len(string))\n",
        "print(list1)"
      ],
      "metadata": {
        "id": "bHv50oDhrdzN",
        "outputId": "df1cd210-7b7a-4dc5-8fc0-7a7661f34b56",
        "colab": {
          "base_uri": "https://localhost:8080/"
        }
      },
      "execution_count": 40,
      "outputs": [
        {
          "output_type": "stream",
          "name": "stdout",
          "text": [
            "JhonSmith\n",
            "9\n",
            "[24, 25, 31, 32, 37, 38]\n"
          ]
        }
      ]
    },
    {
      "cell_type": "markdown",
      "source": [
        "## 課題4"
      ],
      "metadata": {
        "id": "W573lh39MOlj"
      }
    },
    {
      "cell_type": "markdown",
      "source": [
        "ある大学の名前と年齢が、次のような形式で格納されたディクショナリ `university_dic` があります。"
      ],
      "metadata": {
        "id": "sSIMKY-aNcIx"
      }
    },
    {
      "cell_type": "code",
      "source": [
        "university_dic = {\n",
        "    \"Chitose\" : 25,\n",
        "    \"Hokudai\" : 105,\n",
        "    \"Muroran\" : 74,\n",
        "    \"Hakodate\": 23,\n",
        "}"
      ],
      "metadata": {
        "id": "v-wGyWuKK3wl"
      },
      "execution_count": 41,
      "outputs": []
    },
    {
      "cell_type": "markdown",
      "source": [
        "このリストを、年齢順にソートして、新たなディクショナリとして出力してください"
      ],
      "metadata": {
        "id": "XIxDf9QgO1iH"
      }
    },
    {
      "cell_type": "markdown",
      "source": [
        "＜実行結果＞  \n",
        "``` py\n",
        "['Chitose,25', 'Hokudai,105', 'Muroran,74', 'Hakodate,23']\n",
        "['Hakodate,23', 'Chitose,25', 'Muroran,74', 'Hokudai,105']\n",
        "```"
      ],
      "metadata": {
        "id": "0Z2-_1dAQENU"
      }
    },
    {
      "cell_type": "code",
      "source": [
        "# 入力用\n",
        "dic={}\n",
        "for i in university_dic:\n",
        "  dic[university_dic[i]]=i\n",
        "print(dic)\n",
        "dic1=sorted(dic)\n",
        "print(dic1)\n",
        "dic2={}\n",
        "for i in dic1:\n",
        "  dic2[dic[i]]=i\n",
        "print(dic2)"
      ],
      "metadata": {
        "id": "ficNVfkgR5Kv",
        "outputId": "0214c550-e291-41d6-9eaf-52acfa561a53",
        "colab": {
          "base_uri": "https://localhost:8080/"
        }
      },
      "execution_count": 48,
      "outputs": [
        {
          "output_type": "stream",
          "name": "stdout",
          "text": [
            "{25: 'Chitose', 105: 'Hokudai', 74: 'Muroran', 23: 'Hakodate'}\n",
            "[23, 25, 74, 105]\n",
            "{'Hakodate': 23, 'Chitose': 25, 'Muroran': 74, 'Hokudai': 105}\n"
          ]
        }
      ]
    },
    {
      "cell_type": "markdown",
      "source": [
        "## 課題5"
      ],
      "metadata": {
        "id": "QijnXk7UWAVC"
      }
    },
    {
      "cell_type": "markdown",
      "source": [
        "**FizzBuzz（フィズ・バズ）問題**という問題について解いていきます。\n",
        "\n",
        "もともとは、英語圏で長距離ドライブ中や飲み会の時に行われる言葉遊びです。"
      ],
      "metadata": {
        "id": "m7F47Q1mWCA6"
      }
    },
    {
      "cell_type": "markdown",
      "source": [
        "以下のような問題になります。\n",
        "\n",
        "1～Nまでの整数を順に出力しなさい。ただし、例外として以下のルールを守ること。\n",
        "\n",
        "* 3で割り切れる数字の場合はFizzを出力\n",
        "* 5で割り切れる数字の場合はBuzzを出力\n",
        "* 7で割り切れる数字の場合はJazzを出力\n",
        "* 複数条件が当てはまる場合は組み合わせて出力（ \"FizzBuzz\", \"FizzJazz\", \"BuzzJazz\" など）"
      ],
      "metadata": {
        "id": "fArw0VcNWgwZ"
      }
    },
    {
      "cell_type": "markdown",
      "source": [
        "ここでは N=100として、まずは一つのリストに  \n",
        "\"Fizz\" か \"Buzz\" か \"Jazz\" か \"組み合わさったもの\" か \"others\" を格納してください。\n",
        "\n",
        "その後、それぞれの要素の数をカウントし、ディクショナリの形で出力してください。"
      ],
      "metadata": {
        "id": "SYqkpYstWm7Z"
      }
    },
    {
      "cell_type": "markdown",
      "source": [
        "＜実行結果例＞  \n",
        "``` py\n",
        "{'Fizz': 23, 'Buzz': 12, 'Jazz': 8, 'FizzBuzz': 6, 'FizzJazz': 4, 'BuzzJazz': 2, 'others': 45}\n",
        "```"
      ],
      "metadata": {
        "id": "OqLuJTcWYzFt"
      }
    },
    {
      "cell_type": "code",
      "source": [
        "# 入力用\n",
        "N=100\n",
        "list = []\n",
        "for i in range(1,N+1):\n",
        "  m=\"\"\n",
        "  if i % 3 ==0 :\n",
        "    m=m+\"Fizz\"\n",
        "  if i % 5 ==0:\n",
        "    m=m+\"Buzz\"\n",
        "  if i % 7 ==0:\n",
        "    m=m+\"Jazz\"\n",
        "  if m==\"\":\n",
        "    m=\"Others\"\n",
        "  list.append(m)\n",
        "print(list)\n",
        "dic={\"Fizz\":0,\"Buzz\":0,\"Jazz\":0,\"Others\":0,\"FizzBuzz\":0,\"FizzJazz\":0,\"BuzzJazz\":0,\"FizzBuzzJazz\":0}\n",
        "for i in dic:\n",
        "  dic[i]=list.count(i)\n",
        "print(dic)"
      ],
      "metadata": {
        "id": "BLYbI0E48o2G",
        "outputId": "78322046-b056-477f-8d96-08a530f2917a",
        "colab": {
          "base_uri": "https://localhost:8080/"
        }
      },
      "execution_count": 55,
      "outputs": [
        {
          "output_type": "stream",
          "name": "stdout",
          "text": [
            "['Others', 'Others', 'Fizz', 'Others', 'Buzz', 'Fizz', 'Jazz', 'Others', 'Fizz', 'Buzz', 'Others', 'Fizz', 'Others', 'Jazz', 'FizzBuzz', 'Others', 'Others', 'Fizz', 'Others', 'Buzz', 'FizzJazz', 'Others', 'Others', 'Fizz', 'Buzz', 'Others', 'Fizz', 'Jazz', 'Others', 'FizzBuzz', 'Others', 'Others', 'Fizz', 'Others', 'BuzzJazz', 'Fizz', 'Others', 'Others', 'Fizz', 'Buzz', 'Others', 'FizzJazz', 'Others', 'Others', 'FizzBuzz', 'Others', 'Others', 'Fizz', 'Jazz', 'Buzz', 'Fizz', 'Others', 'Others', 'Fizz', 'Buzz', 'Jazz', 'Fizz', 'Others', 'Others', 'FizzBuzz', 'Others', 'Others', 'FizzJazz', 'Others', 'Buzz', 'Fizz', 'Others', 'Others', 'Fizz', 'BuzzJazz', 'Others', 'Fizz', 'Others', 'Others', 'FizzBuzz', 'Others', 'Jazz', 'Fizz', 'Others', 'Buzz', 'Fizz', 'Others', 'Others', 'FizzJazz', 'Buzz', 'Others', 'Fizz', 'Others', 'Others', 'FizzBuzz', 'Jazz', 'Others', 'Fizz', 'Others', 'Buzz', 'Fizz', 'Others', 'Jazz', 'Fizz', 'Buzz']\n",
            "{'Fizz': 23, 'Buzz': 12, 'Jazz': 8, 'Others': 45, 'FizzBuzz': 6, 'FizzJazz': 4, 'BuzzJazz': 2, 'FizzBuzzJazz': 0}\n"
          ]
        }
      ]
    }
  ]
}