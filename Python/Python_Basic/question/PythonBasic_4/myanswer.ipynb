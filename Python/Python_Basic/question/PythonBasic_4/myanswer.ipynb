{
  "nbformat": 4,
  "nbformat_minor": 0,
  "metadata": {
    "colab": {
      "provenance": []
    },
    "kernelspec": {
      "name": "python3",
      "display_name": "Python 3"
    },
    "language_info": {
      "name": "python"
    }
  },
  "cells": [
    {
      "cell_type": "markdown",
      "source": [
        "<a href=\"https://colab.research.google.com/github/kiryu-3/Prmn2023_DS/blob/main/Python/Python_Basic/question/PythonBasic_4_Question.ipynb\" target=\"_parent\"><img src=\"https://colab.research.google.com/assets/colab-badge.svg\" alt=\"Open In Colab\"/></a>"
      ],
      "metadata": {
        "id": "TA5kKi-LY1xg"
      }
    },
    {
      "cell_type": "markdown",
      "source": [
        "# 第4章 課題"
      ],
      "metadata": {
        "id": "r-kcfL2yEU8b"
      }
    },
    {
      "cell_type": "markdown",
      "source": [
        "## 課題1"
      ],
      "metadata": {
        "id": "UqgRlaNaaWsU"
      }
    },
    {
      "cell_type": "markdown",
      "source": [
        "10から2800まで、10飛ばしの数を乱数で生成し、2220000に足してください。  \n",
        "\n",
        "この数を5つ生成し、一つのリストに格納した後、最終的に頭に\"b\"をつけて5つ出力してください。"
      ],
      "metadata": {
        "id": "dMngS2Dtai7U"
      }
    },
    {
      "cell_type": "markdown",
      "source": [
        "＜実行結果例＞\n",
        "``` py  \n",
        "['b2220400', 'b2221750', 'b2222480', 'b2221720', 'b2220380']\n",
        "```"
      ],
      "metadata": {
        "id": "Ys4Y3shObw3w"
      }
    },
    {
      "cell_type": "code",
      "source": [
        "# 入力用\n",
        "import random\n",
        "x=[]\n",
        "for i in range(5):\n",
        "  x.append(random.randint(1,280)*10+2220000)\n",
        "print(x)"
      ],
      "metadata": {
        "id": "UaBFEY3Hdbsg",
        "colab": {
          "base_uri": "https://localhost:8080/"
        },
        "outputId": "8e977872-78b6-46cd-c58f-151a1028f959"
      },
      "execution_count": 22,
      "outputs": [
        {
          "output_type": "stream",
          "name": "stdout",
          "text": [
            "[2222210, 2222620, 2222800, 2221580, 2220680]\n"
          ]
        }
      ]
    },
    {
      "cell_type": "markdown",
      "source": [
        "## 課題2"
      ],
      "metadata": {
        "id": "yRsfay5_8FuJ"
      }
    },
    {
      "cell_type": "markdown",
      "source": [
        "1桁の自然数を乱数を使って5つ格納した2つのリストを作ってください。  \n",
        "この時、一つのリスト内で5つの値が重複しないようにしてください\n",
        "\n",
        "その後、対応する要素を足し合わせた新しいリストを出力してください"
      ],
      "metadata": {
        "id": "4WbYBFGr8Ht3"
      }
    },
    {
      "cell_type": "markdown",
      "source": [
        "＜実行結果例＞\n",
        "``` py  \n",
        "1つ目のリスト：[1, 2, 3, 4, 5]  \n",
        "2つ目のリスト：[1, 3, 5, 7, 9]  \n",
        "足し合わせたリスト：[2, 5, 8, 11, 14]\n",
        "```"
      ],
      "metadata": {
        "id": "A0ImPPha84Nb"
      }
    },
    {
      "cell_type": "code",
      "source": [
        "# 入力用\n",
        "x1=[]\n",
        "x2=[]\n",
        "x3=[]\n",
        "while len(x1) < 5:\n",
        "  x=random.randint(1,9)\n",
        "  if x not in x1:\n",
        "    x1.append(x)\n",
        "x1=sorted(x1)\n",
        "print(\"1つ目のリスト:\",x1)\n",
        "while len(x2) < 5:\n",
        "  x=random.randint(1,9)\n",
        "  if x not in x2:\n",
        "    x2.append(x)\n",
        "x2=sorted(x2)\n",
        "print(\"2つ目のリスト:\",x2)\n",
        "for i in range(5):\n",
        "  x3.append(x1[i]+x2[i])\n",
        "print(x3)"
      ],
      "metadata": {
        "id": "TaJm8jn2MHmk",
        "colab": {
          "base_uri": "https://localhost:8080/"
        },
        "outputId": "a325d496-741d-4b4c-e0e8-1d72696767e7"
      },
      "execution_count": 48,
      "outputs": [
        {
          "output_type": "stream",
          "name": "stdout",
          "text": [
            "1つ目のリスト: [1, 2, 3, 4, 7]\n",
            "2つ目のリスト: [3, 4, 5, 8, 9]\n",
            "[4, 6, 8, 12, 16]\n"
          ]
        }
      ]
    },
    {
      "cell_type": "markdown",
      "source": [
        "## 課題3"
      ],
      "metadata": {
        "id": "-qZw_n3X8xrW"
      }
    },
    {
      "cell_type": "markdown",
      "source": [
        "リストの中身を指定した数で分割してみます。\n",
        "\n",
        "以下のリストには都道府県47つが格納されています。"
      ],
      "metadata": {
        "id": "vxwATeobQf_U"
      }
    },
    {
      "cell_type": "code",
      "source": [
        "todohuken_list = [\n",
        "    '北海道', '青森県', '岩手県', '宮城県', '秋田県', '山形県', '福島県', '茨城県', '栃木県', '群馬県', \n",
        "    '埼玉県', '千葉県', '東京都', '神奈川県', '新潟県', '富山県', '石川県', '福井県', '山梨県', '長野県', \n",
        "    '岐阜県', '静岡県', '愛知県', '三重県', '滋賀県', '京都府', '大阪府', '兵庫県', '奈良県', '和歌山県', \n",
        "    '鳥取県', '島根県', '岡山県', '広島県', '山口県', '徳島県', '香川県', '愛媛県', '高知県',  '福岡県', \n",
        "    '佐賀県', '長崎県', '熊本県', '大分県', '宮崎県', '鹿児島県', '沖縄県',\n",
        "]"
      ],
      "metadata": {
        "id": "8ZdyRWbERGAY"
      },
      "execution_count": 73,
      "outputs": []
    },
    {
      "cell_type": "markdown",
      "source": [
        "  \n",
        "これをランダムに1つのリストのサイズを4として分割してください"
      ],
      "metadata": {
        "id": "tGPa1uU6Qs2c"
      }
    },
    {
      "cell_type": "markdown",
      "source": [
        "＜実行結果例＞  \n",
        "``` py \n",
        "[['宮崎県', '茨城県', '栃木県', '千葉県'], … , ['岩手県', '滋賀県', '宮城県']]\n",
        "```"
      ],
      "metadata": {
        "id": "PWLTwz0TXzm_"
      }
    },
    {
      "cell_type": "code",
      "source": [
        "# 入力用\n",
        "todohuken_list = [\n",
        "    '北海道', '青森県', '岩手県', '宮城県', '秋田県', '山形県', '福島県', '茨城県', '栃木県', '群馬県', \n",
        "    '埼玉県', '千葉県', '東京都', '神奈川県', '新潟県', '富山県', '石川県', '福井県', '山梨県', '長野県', \n",
        "    '岐阜県', '静岡県', '愛知県', '三重県', '滋賀県', '京都府', '大阪府', '兵庫県', '奈良県', '和歌山県', \n",
        "    '鳥取県', '島根県', '岡山県', '広島県', '山口県', '徳島県', '香川県', '愛媛県', '高知県',  '福岡県', \n",
        "    '佐賀県', '長崎県', '熊本県', '大分県', '宮崎県', '鹿児島県', '沖縄県',\n",
        "]\n",
        "todohuken_list1=todohuken_list\n",
        "t=[]\n",
        "k=[]\n",
        "while len(todohuken_list1)>3:\n",
        "  c=random.randint(0,len(todohuken_list1)-1)\n",
        "  k.append(todohuken_list1[c])\n",
        "  del todohuken_list1[c]\n",
        "  if len(k) == 4 :\n",
        "    t.append(k)\n",
        "    k=[]\n",
        "t.append(todohuken_list1)\n",
        "print(t)\n",
        "  \n"
      ],
      "metadata": {
        "id": "rgPlOseCTC_h",
        "colab": {
          "base_uri": "https://localhost:8080/"
        },
        "outputId": "4c9183ee-7917-4ac1-f62a-621746b6951d"
      },
      "execution_count": 77,
      "outputs": [
        {
          "output_type": "stream",
          "name": "stdout",
          "text": [
            "['神奈川県', '岐阜県', '愛媛県']\n",
            "[['静岡県', '岡山県', '富山県', '岩手県'], ['愛知県', '福島県', '広島県', '奈良県'], ['兵庫県', '徳島県', '群馬県', '沖縄県'], ['千葉県', '新潟県', '山形県', '長野県'], ['茨城県', '宮崎県', '和歌山県', '秋田県'], ['山梨県', '香川県', '熊本県', '東京都'], ['福井県', '佐賀県', '宮城県', '鹿児島県'], ['滋賀県', '島根県', '福岡県', '高知県'], ['青森県', '大阪府', '山口県', '三重県'], ['長崎県', '鳥取県', '石川県', '京都府'], ['埼玉県', '栃木県', '北海道', '大分県'], ['神奈川県', '岐阜県', '愛媛県']]\n"
          ]
        }
      ]
    },
    {
      "cell_type": "markdown",
      "source": [
        "## 課題4"
      ],
      "metadata": {
        "id": "W573lh39MOlj"
      }
    },
    {
      "cell_type": "markdown",
      "source": [
        "ある大学の名前と年齢が、次のような形式で格納されたリスト `university_list` があります。"
      ],
      "metadata": {
        "id": "sSIMKY-aNcIx"
      }
    },
    {
      "cell_type": "code",
      "source": [
        "university_list = [\n",
        "    \"Chitose,25\",\n",
        "    \"Hokudai,105\",\n",
        "    \"Muroran,74\",\n",
        "    \"Hakodate,23\",\n",
        "]"
      ],
      "metadata": {
        "id": "v-wGyWuKK3wl"
      },
      "execution_count": null,
      "outputs": []
    },
    {
      "cell_type": "markdown",
      "source": [
        "このリストを、年齢順にソートして、新たなリストとして出力してください"
      ],
      "metadata": {
        "id": "XIxDf9QgO1iH"
      }
    },
    {
      "cell_type": "markdown",
      "source": [
        "＜実行結果＞  \n",
        "``` py\n",
        "['Chitose,25', 'Hokudai,105', 'Muroran,74', 'Hakodate,23']\n",
        "['Hakodate,23', 'Chitose,25', 'Muroran,74', 'Hokudai,105']\n",
        "```"
      ],
      "metadata": {
        "id": "0Z2-_1dAQENU"
      }
    },
    {
      "cell_type": "code",
      "source": [
        "# 入力用\n",
        "import re\n",
        "university_list = [\n",
        "    \"Chitose,25\",\n",
        "    \"Hokudai,105\",\n",
        "    \"Muroran,74\",\n",
        "    \"Hakodate,23\",\n",
        "]\n",
        "ul=[]\n",
        "u={}\n",
        "UL=[]\n",
        "for i in university_list:\n",
        "  u[int(re.sub(r\"\\D\", \"\", i))]=i\n",
        "print(u)\n",
        "for i in u:\n",
        "  ul.append(i)\n",
        "ul=sorted(ul)\n",
        "print(ul)\n",
        "for i in ul:\n",
        "  UL.append(u[i])\n",
        "print(UL)"
      ],
      "metadata": {
        "id": "ficNVfkgR5Kv",
        "colab": {
          "base_uri": "https://localhost:8080/"
        },
        "outputId": "7f358281-eb46-4fe6-ff08-5d0661693639"
      },
      "execution_count": 88,
      "outputs": [
        {
          "output_type": "stream",
          "name": "stdout",
          "text": [
            "{25: 'Chitose,25', 105: 'Hokudai,105', 74: 'Muroran,74', 23: 'Hakodate,23'}\n",
            "[23, 25, 74, 105]\n",
            "['Hakodate,23', 'Chitose,25', 'Muroran,74', 'Hokudai,105']\n"
          ]
        }
      ]
    },
    {
      "cell_type": "markdown",
      "source": [
        "## 課題5"
      ],
      "metadata": {
        "id": "QijnXk7UWAVC"
      }
    },
    {
      "cell_type": "markdown",
      "source": [
        "**FizzBuzz（フィズ・バズ）問題**という問題について解いていきます。\n",
        "\n",
        "もともとは、英語圏で長距離ドライブ中や飲み会の時に行われる言葉遊びです。"
      ],
      "metadata": {
        "id": "m7F47Q1mWCA6"
      }
    },
    {
      "cell_type": "markdown",
      "source": [
        "以下のような問題になります。\n",
        "\n",
        "1～Nまでの整数を順に出力しなさい。ただし、例外として以下のルールを守ること。\n",
        "\n",
        "* 3で割り切れる数字の場合は\"Fizz\"を出力\n",
        "* 5で割り切れる数字の場合は\"Buzz\"を出力\n",
        "* どちらでも割り切れる数字の場合は\"FizzBuzz\"を出力"
      ],
      "metadata": {
        "id": "fArw0VcNWgwZ"
      }
    },
    {
      "cell_type": "markdown",
      "source": [
        "ここではN=100として、まずは一つのリストに\n",
        "\"Fizz\" か \"Buzz\" か \"FizzBuzz\" か \"others\" を格納してください。\n",
        "\n",
        "その後、それぞれの要素の数をカウントしてください。"
      ],
      "metadata": {
        "id": "SYqkpYstWm7Z"
      }
    },
    {
      "cell_type": "markdown",
      "source": [
        "＜実行結果＞  \n",
        "``` py\n",
        "FizzBuzzの数：6 \n",
        "Fizzの数：27 \n",
        "Buzzの数：14\n",
        "othersの数：53  \n",
        "```"
      ],
      "metadata": {
        "id": "OqLuJTcWYzFt"
      }
    },
    {
      "cell_type": "code",
      "source": [
        "List=[]\n",
        "N=input()\n",
        "List.append(N)\n",
        "for i in range(int(List[0])):\n",
        "  if (i+1) % 3 == 0 :\n",
        "    if (i+1) % 5 == 0 :\n",
        "      print(i+1,\" is FizzBuzz\")\n",
        "      List.append('FizzBuzz')\n",
        "    else:\n",
        "      print(i+1,\" is Fizz\")\n",
        "      List.append('Fizz')\n",
        "  else:\n",
        "    if (i+1) % 5 == 0 :\n",
        "      print(i+1,\" is Buzz\")\n",
        "      List.append('Buzz')\n",
        "    else:\n",
        "      print(i+1,\" is Others\")\n",
        "      List.append('Others')\n",
        "print(List)\n",
        "print(\"FizzBuzzの数:\",List.count('FizzBuzz'))\n",
        "print(\"Fizzの数:\",List.count('Fizz'))\n",
        "print(\"Buzzの数:\",List.count('Buzz'))\n",
        "print(\"Othersの数:\",List.count('Others'))"
      ],
      "metadata": {
        "id": "msIq5WafYDvH",
        "outputId": "0555d954-d164-47b9-f76a-a5a971c89839",
        "colab": {
          "base_uri": "https://localhost:8080/"
        }
      },
      "execution_count": 101,
      "outputs": [
        {
          "output_type": "stream",
          "name": "stdout",
          "text": [
            "100\n",
            "1  is Others\n",
            "2  is Others\n",
            "3  is Fizz\n",
            "4  is Others\n",
            "5  is Buzz\n",
            "6  is Fizz\n",
            "7  is Others\n",
            "8  is Others\n",
            "9  is Fizz\n",
            "10  is Buzz\n",
            "11  is Others\n",
            "12  is Fizz\n",
            "13  is Others\n",
            "14  is Others\n",
            "15  is FizzBuzz\n",
            "16  is Others\n",
            "17  is Others\n",
            "18  is Fizz\n",
            "19  is Others\n",
            "20  is Buzz\n",
            "21  is Fizz\n",
            "22  is Others\n",
            "23  is Others\n",
            "24  is Fizz\n",
            "25  is Buzz\n",
            "26  is Others\n",
            "27  is Fizz\n",
            "28  is Others\n",
            "29  is Others\n",
            "30  is FizzBuzz\n",
            "31  is Others\n",
            "32  is Others\n",
            "33  is Fizz\n",
            "34  is Others\n",
            "35  is Buzz\n",
            "36  is Fizz\n",
            "37  is Others\n",
            "38  is Others\n",
            "39  is Fizz\n",
            "40  is Buzz\n",
            "41  is Others\n",
            "42  is Fizz\n",
            "43  is Others\n",
            "44  is Others\n",
            "45  is FizzBuzz\n",
            "46  is Others\n",
            "47  is Others\n",
            "48  is Fizz\n",
            "49  is Others\n",
            "50  is Buzz\n",
            "51  is Fizz\n",
            "52  is Others\n",
            "53  is Others\n",
            "54  is Fizz\n",
            "55  is Buzz\n",
            "56  is Others\n",
            "57  is Fizz\n",
            "58  is Others\n",
            "59  is Others\n",
            "60  is FizzBuzz\n",
            "61  is Others\n",
            "62  is Others\n",
            "63  is Fizz\n",
            "64  is Others\n",
            "65  is Buzz\n",
            "66  is Fizz\n",
            "67  is Others\n",
            "68  is Others\n",
            "69  is Fizz\n",
            "70  is Buzz\n",
            "71  is Others\n",
            "72  is Fizz\n",
            "73  is Others\n",
            "74  is Others\n",
            "75  is FizzBuzz\n",
            "76  is Others\n",
            "77  is Others\n",
            "78  is Fizz\n",
            "79  is Others\n",
            "80  is Buzz\n",
            "81  is Fizz\n",
            "82  is Others\n",
            "83  is Others\n",
            "84  is Fizz\n",
            "85  is Buzz\n",
            "86  is Others\n",
            "87  is Fizz\n",
            "88  is Others\n",
            "89  is Others\n",
            "90  is FizzBuzz\n",
            "91  is Others\n",
            "92  is Others\n",
            "93  is Fizz\n",
            "94  is Others\n",
            "95  is Buzz\n",
            "96  is Fizz\n",
            "97  is Others\n",
            "98  is Others\n",
            "99  is Fizz\n",
            "100  is Buzz\n",
            "['100', 'Others', 'Others', 'Fizz', 'Others', 'Buzz', 'Fizz', 'Others', 'Others', 'Fizz', 'Buzz', 'Others', 'Fizz', 'Others', 'Others', 'FizzBuzz', 'Others', 'Others', 'Fizz', 'Others', 'Buzz', 'Fizz', 'Others', 'Others', 'Fizz', 'Buzz', 'Others', 'Fizz', 'Others', 'Others', 'FizzBuzz', 'Others', 'Others', 'Fizz', 'Others', 'Buzz', 'Fizz', 'Others', 'Others', 'Fizz', 'Buzz', 'Others', 'Fizz', 'Others', 'Others', 'FizzBuzz', 'Others', 'Others', 'Fizz', 'Others', 'Buzz', 'Fizz', 'Others', 'Others', 'Fizz', 'Buzz', 'Others', 'Fizz', 'Others', 'Others', 'FizzBuzz', 'Others', 'Others', 'Fizz', 'Others', 'Buzz', 'Fizz', 'Others', 'Others', 'Fizz', 'Buzz', 'Others', 'Fizz', 'Others', 'Others', 'FizzBuzz', 'Others', 'Others', 'Fizz', 'Others', 'Buzz', 'Fizz', 'Others', 'Others', 'Fizz', 'Buzz', 'Others', 'Fizz', 'Others', 'Others', 'FizzBuzz', 'Others', 'Others', 'Fizz', 'Others', 'Buzz', 'Fizz', 'Others', 'Others', 'Fizz', 'Buzz']\n",
            "FizzBuzzの数: 6\n",
            "Fizzの数: 27\n",
            "Buzzの数: 14\n",
            "Othersの数: 53\n"
          ]
        }
      ]
    },
    {
      "cell_type": "code",
      "source": [
        "# 入力用\n",
        "D={'Fizz':0,'Buzz':0,'FizzBuzz':0,'Others':0}\n",
        "N=100\n",
        "for i in range(N):\n",
        "  if (i+1) % 3 == 0 :\n",
        "    if (i+1) % 5 == 0 :\n",
        "      print(i+1,\" is FizzBuzz\")\n",
        "      D['FizzBuzz']+=1\n",
        "    else:\n",
        "      print(i+1,\" is Fizz\")\n",
        "      D['Fizz']=D['Fizz']+1\n",
        "  else:\n",
        "    if (i+1) % 5 == 0 :\n",
        "      print(i+1,\" is Buzz\")\n",
        "      D['Buzz']=D['Buzz']+1\n",
        "    else:\n",
        "      print(i+1,\" is Others\")\n",
        "      D['Others']=D['Others']+1\n",
        "print(D)"
      ],
      "metadata": {
        "id": "5kEDaVLmaEpb",
        "colab": {
          "base_uri": "https://localhost:8080/"
        },
        "outputId": "71e4dbc9-138a-4dc7-b792-8fa9ef8dc749"
      },
      "execution_count": 94,
      "outputs": [
        {
          "output_type": "stream",
          "name": "stdout",
          "text": [
            "1  is Others\n",
            "2  is Others\n",
            "3  is Fizz\n",
            "4  is Others\n",
            "5  is Buzz\n",
            "6  is Fizz\n",
            "7  is Others\n",
            "8  is Others\n",
            "9  is Fizz\n",
            "10  is Buzz\n",
            "11  is Others\n",
            "12  is Fizz\n",
            "13  is Others\n",
            "14  is Others\n",
            "15  is FizzBuzz\n",
            "16  is Others\n",
            "17  is Others\n",
            "18  is Fizz\n",
            "19  is Others\n",
            "20  is Buzz\n",
            "21  is Fizz\n",
            "22  is Others\n",
            "23  is Others\n",
            "24  is Fizz\n",
            "25  is Buzz\n",
            "26  is Others\n",
            "27  is Fizz\n",
            "28  is Others\n",
            "29  is Others\n",
            "30  is FizzBuzz\n",
            "31  is Others\n",
            "32  is Others\n",
            "33  is Fizz\n",
            "34  is Others\n",
            "35  is Buzz\n",
            "36  is Fizz\n",
            "37  is Others\n",
            "38  is Others\n",
            "39  is Fizz\n",
            "40  is Buzz\n",
            "41  is Others\n",
            "42  is Fizz\n",
            "43  is Others\n",
            "44  is Others\n",
            "45  is FizzBuzz\n",
            "46  is Others\n",
            "47  is Others\n",
            "48  is Fizz\n",
            "49  is Others\n",
            "50  is Buzz\n",
            "51  is Fizz\n",
            "52  is Others\n",
            "53  is Others\n",
            "54  is Fizz\n",
            "55  is Buzz\n",
            "56  is Others\n",
            "57  is Fizz\n",
            "58  is Others\n",
            "59  is Others\n",
            "60  is FizzBuzz\n",
            "61  is Others\n",
            "62  is Others\n",
            "63  is Fizz\n",
            "64  is Others\n",
            "65  is Buzz\n",
            "66  is Fizz\n",
            "67  is Others\n",
            "68  is Others\n",
            "69  is Fizz\n",
            "70  is Buzz\n",
            "71  is Others\n",
            "72  is Fizz\n",
            "73  is Others\n",
            "74  is Others\n",
            "75  is FizzBuzz\n",
            "76  is Others\n",
            "77  is Others\n",
            "78  is Fizz\n",
            "79  is Others\n",
            "80  is Buzz\n",
            "81  is Fizz\n",
            "82  is Others\n",
            "83  is Others\n",
            "84  is Fizz\n",
            "85  is Buzz\n",
            "86  is Others\n",
            "87  is Fizz\n",
            "88  is Others\n",
            "89  is Others\n",
            "90  is FizzBuzz\n",
            "91  is Others\n",
            "92  is Others\n",
            "93  is Fizz\n",
            "94  is Others\n",
            "95  is Buzz\n",
            "96  is Fizz\n",
            "97  is Others\n",
            "98  is Others\n",
            "99  is Fizz\n",
            "100  is Buzz\n",
            "{'Fizz': 27, 'Buzz': 14, 'FizzBuzz': 6, 'Others': 53}\n"
          ]
        }
      ]
    }
  ]
}