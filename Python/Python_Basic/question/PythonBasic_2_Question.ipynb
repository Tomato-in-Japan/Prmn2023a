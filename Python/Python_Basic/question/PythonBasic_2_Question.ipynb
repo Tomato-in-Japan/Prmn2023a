{
  "nbformat": 4,
  "nbformat_minor": 0,
  "metadata": {
    "colab": {
      "provenance": [],
      "include_colab_link": true
    },
    "kernelspec": {
      "name": "python3",
      "display_name": "Python 3"
    },
    "language_info": {
      "name": "python"
    }
  },
  "cells": [
    {
      "cell_type": "markdown",
      "metadata": {
        "id": "view-in-github",
        "colab_type": "text"
      },
      "source": [
        "<a href=\"https://colab.research.google.com/github/Tomato-in-Japan/Prmn2023a/blob/main/Python/Python_Basic/question/PythonBasic_2_Question.ipynb\" target=\"_parent\"><img src=\"https://colab.research.google.com/assets/colab-badge.svg\" alt=\"Open In Colab\"/></a>"
      ]
    },
    {
      "cell_type": "markdown",
      "source": [
        "# 第2章 課題"
      ],
      "metadata": {
        "id": "C44SsXDACtHu"
      }
    },
    {
      "cell_type": "markdown",
      "source": [
        "## 課題1"
      ],
      "metadata": {
        "id": "OnkezWHRCwr9"
      }
    },
    {
      "cell_type": "markdown",
      "source": [
        "for文を使って、以下のように出力してください"
      ],
      "metadata": {
        "id": "q32rK-cECzCl"
      }
    },
    {
      "cell_type": "markdown",
      "source": [
        "![oSFeQoX.png](https://i.imgur.com/oSFeQoX.png)"
      ],
      "metadata": {
        "id": "FxMcxznVB6cI"
      }
    },
    {
      "cell_type": "code",
      "source": [
        "m1=5\n",
        "if(m1>1):\n",
        "  for i1 in range(0,m1,1):\n",
        "    for i2 in range(0,4-i1,1):\n",
        "      p2()\n",
        "    for i2 in range(0,2*i1-1,1):\n",
        "      p1()\n",
        "    print()\n"
      ],
      "metadata": {
        "id": "iBFSsrdRC5Zt",
        "colab": {
          "base_uri": "https://localhost:8080/"
        },
        "outputId": "0d530a10-ec6d-4e6e-a487-339fb0465247"
      },
      "execution_count": 51,
      "outputs": [
        {
          "output_type": "stream",
          "name": "stdout",
          "text": [
            "    \n",
            "   *\n",
            "  ***\n",
            " *****\n",
            "*******\n"
          ]
        }
      ]
    },
    {
      "cell_type": "markdown",
      "source": [
        "## 課題2"
      ],
      "metadata": {
        "id": "gIn-UqGTCagu"
      }
    },
    {
      "cell_type": "markdown",
      "source": [
        "課題1の場合を`n=4`として、nを自分で設定して出力できるようにしてください"
      ],
      "metadata": {
        "id": "ltdiEdqYDFy8"
      }
    },
    {
      "cell_type": "markdown",
      "source": [
        "＜例＞ n=5の場合  \n",
        "![o5NjugQ.png](https://imgur.com/o5NjugQ.png)"
      ],
      "metadata": {
        "id": "hw0FM8BRDHz1"
      }
    },
    {
      "cell_type": "code",
      "source": [
        "def p1():\n",
        "  print(\"*\",end=\"\")\n",
        "def p2():\n",
        "  print(\" \",end=\"\")\n",
        "flag = input(\"n=\") \n",
        "n = int(flag)\n",
        "print(flag)\n",
        "if(n>1):\n",
        "  for i1 in range(1,n+1,1):\n",
        "    for i2 in range(1,n-i1+1,1):\n",
        "      p2()\n",
        "    for i2 in range(0,2*i1-1,1):\n",
        "      p1()\n",
        "    print()\n"
      ],
      "metadata": {
        "id": "upd76Tv-FrIB",
        "colab": {
          "base_uri": "https://localhost:8080/"
        },
        "outputId": "7bece755-637a-4d9b-f241-50180c923a65"
      },
      "execution_count": 52,
      "outputs": [
        {
          "output_type": "stream",
          "name": "stdout",
          "text": [
            "n=5\n",
            "5\n",
            "    *\n",
            "   ***\n",
            "  *****\n",
            " *******\n",
            "*********\n"
          ]
        }
      ]
    },
    {
      "cell_type": "markdown",
      "source": [
        "## 課題3"
      ],
      "metadata": {
        "id": "tLMJvwBDE7wT"
      }
    },
    {
      "cell_type": "markdown",
      "source": [
        "for文を使って、以下のように出力してください"
      ],
      "metadata": {
        "id": "vZNvWsG7E99q"
      }
    },
    {
      "cell_type": "markdown",
      "source": [
        "![oSirXec.png](https://imgur.com/oSirXec.png)"
      ],
      "metadata": {
        "id": "ijOV-ilXGDNR"
      }
    },
    {
      "cell_type": "code",
      "source": [
        "def p1():\n",
        "  print(\"*\",end=\"\")\n",
        "def p2():\n",
        "  print(\" \",end=\"\")\n",
        "n = 5\n",
        "m=2*n+1\n",
        "if(n>1):\n",
        "  for i1 in range(1,n+1,1):\n",
        "    for i2 in range(1,n-i1+1,1):\n",
        "      p2()\n",
        "    for i2 in range(0,2*i1-1,1):\n",
        "      p1()\n",
        "    print()\n",
        "  for i1 in range(1,n,1):\n",
        "    for i2 in range(0,i1,1):\n",
        "      p2()\n",
        "    for i2 in range(0,m-2*i1-2,1):\n",
        "      p1()\n",
        "    print()\n"
      ],
      "metadata": {
        "id": "Q5Ob9uZpGIE3",
        "colab": {
          "base_uri": "https://localhost:8080/"
        },
        "outputId": "bc1d6774-3a2d-4e22-e5b3-611af8293ca5"
      },
      "execution_count": 69,
      "outputs": [
        {
          "output_type": "stream",
          "name": "stdout",
          "text": [
            "    *\n",
            "   ***\n",
            "  *****\n",
            " *******\n",
            "*********\n",
            " *******\n",
            "  *****\n",
            "   ***\n",
            "    *\n"
          ]
        }
      ]
    },
    {
      "cell_type": "markdown",
      "source": [
        "## 課題4"
      ],
      "metadata": {
        "id": "Oh7whOPkGQ3I"
      }
    },
    {
      "cell_type": "markdown",
      "source": [
        "課題3の場合を`n=4`として、nを自分で設定して出力できるようにしてください"
      ],
      "metadata": {
        "id": "PnvT8MQbGS03"
      }
    },
    {
      "cell_type": "markdown",
      "source": [
        "＜例＞ n=5の場合  \n",
        "\n",
        "![my4J17V.png](https://i.imgur.com/my4J17V.png)"
      ],
      "metadata": {
        "id": "ZujkAbVMGzhn"
      }
    },
    {
      "cell_type": "code",
      "source": [
        "def p1():\n",
        "  print(\"*\",end=\"\")\n",
        "def p2():\n",
        "  print(\" \",end=\"\")\n",
        "flag = input(\"n=\") \n",
        "n = int(flag)\n",
        "m=2*n+1\n",
        "print(flag)\n",
        "if(n>1):\n",
        "  for i1 in range(1,n+1,1):\n",
        "    for i2 in range(1,n-i1+1,1):\n",
        "      p2()\n",
        "    for i2 in range(0,2*i1-1,1):\n",
        "      p1()\n",
        "    print()\n",
        "  for i1 in range(1,n,1):\n",
        "    for i2 in range(0,i1,1):\n",
        "      p2()\n",
        "    for i2 in range(0,m-2*i1-2,1):\n",
        "      p1()\n",
        "    print()\n"
      ],
      "metadata": {
        "id": "hCFNQ7mWG99u",
        "colab": {
          "base_uri": "https://localhost:8080/"
        },
        "outputId": "fe67e1cf-b9bb-4a39-9445-cca4803e20f6"
      },
      "execution_count": 71,
      "outputs": [
        {
          "output_type": "stream",
          "name": "stdout",
          "text": [
            "n=5\n",
            "5\n",
            "    *\n",
            "   ***\n",
            "  *****\n",
            " *******\n",
            "*********\n",
            " *******\n",
            "  *****\n",
            "   ***\n",
            "    *\n"
          ]
        }
      ]
    },
    {
      "cell_type": "markdown",
      "source": [
        "## 課題5"
      ],
      "metadata": {
        "id": "R2MvOK4wHJlK"
      }
    },
    {
      "cell_type": "markdown",
      "source": [
        "for文を使って、以下のように出力してください"
      ],
      "metadata": {
        "id": "ddMIUoaKHcwd"
      }
    },
    {
      "cell_type": "markdown",
      "source": [
        "![vDUi5eM.png](https://imgur.com/vDUi5eM.png)"
      ],
      "metadata": {
        "id": "CD1cVUlWHLVO"
      }
    },
    {
      "cell_type": "code",
      "source": [
        "# 入力用\n",
        "def p1():\n",
        "  print(\"*\",end=\"\")\n",
        "def p2():\n",
        "  print(\" \",end=\"\")\n",
        "n = 4\n",
        "m=3*n+1\n",
        "if(n>1):\n",
        "  for i1 in range(1,n+1,1):\n",
        "    if(i1<n):\n",
        "      for i2 in range(1,n-i1+1,1):\n",
        "        p2()\n",
        "      for i2 in range(0,2*i1-1,1):\n",
        "        p1()\n",
        "      for i2 in range(1,2*n-1-2*i1,1):\n",
        "        p2()\n",
        "      for i2 in range(0,2*i1-1,1):\n",
        "        p1()\n",
        "    elif(i1==n):\n",
        "      for i2 in range(0,4*n-4,1):\n",
        "        p2()\n",
        "    else:\n",
        "      for i2 in range(0,i1,1):\n",
        "        p2()\n",
        "      for i2 in range(0,m-2*i1-2,1):\n",
        "        p1()\n",
        "\n",
        "    print(\"\")"
      ],
      "metadata": {
        "id": "1pDkfJpUHd93",
        "colab": {
          "base_uri": "https://localhost:8080/"
        },
        "outputId": "5865d569-cf9e-40f3-f40b-3811c8e4ed90"
      },
      "execution_count": 88,
      "outputs": [
        {
          "output_type": "stream",
          "name": "stdout",
          "text": [
            "   *    *\n",
            "  ***  ***\n",
            " **********\n",
            "            \n"
          ]
        }
      ]
    },
    {
      "cell_type": "markdown",
      "source": [
        "## 課題6"
      ],
      "metadata": {
        "id": "oubbafOBHerl"
      }
    },
    {
      "cell_type": "markdown",
      "source": [
        "課題5の場合を`n=4`として、nを自分で設定して出力できるようにしてください"
      ],
      "metadata": {
        "id": "7SzgFdC-HzG9"
      }
    },
    {
      "cell_type": "markdown",
      "source": [
        "＜例＞ n=5の場合  \n",
        "\n",
        "![udkVlYG.png](https://imgur.com/udkVlYG.png)"
      ],
      "metadata": {
        "id": "LY8g9PVPH2OW"
      }
    },
    {
      "cell_type": "code",
      "source": [
        "# 入力用\n",
        "# 入力用\n",
        "def p1():\n",
        "  print(\"*\",end=\"\")\n",
        "def p2():\n",
        "  print(\" \",end=\"\")\n",
        "n = 5\n",
        "m=2*n+1\n",
        "if(n>1):\n",
        "  for i1 in range(1,n+1,1):\n",
        "    for i2 in range(1,n-i1+1,1):\n",
        "      p2()\n",
        "    for i2 in range(0,2*i1-1,1):\n",
        "      p1()\n",
        "    print()"
      ],
      "metadata": {
        "id": "XZOK5ulbH-tu",
        "colab": {
          "base_uri": "https://localhost:8080/"
        },
        "outputId": "80fb02e1-fedb-47ff-c712-a50af7a58925"
      },
      "execution_count": 72,
      "outputs": [
        {
          "output_type": "stream",
          "name": "stdout",
          "text": [
            "    *\n",
            "   ***\n",
            "  *****\n",
            " *******\n",
            "*********\n"
          ]
        }
      ]
    },
    {
      "cell_type": "markdown",
      "source": [
        "## 課題7"
      ],
      "metadata": {
        "id": "ouqTUmPQIKGF"
      }
    },
    {
      "cell_type": "markdown",
      "source": [
        "for文を使って、以下のように出力してください"
      ],
      "metadata": {
        "id": "WHSxdOHuIMRM"
      }
    },
    {
      "cell_type": "markdown",
      "source": [
        "![IuP0M16.png](https://imgur.com/IuP0M16.png)"
      ],
      "metadata": {
        "id": "-G--WFTkIM8s"
      }
    },
    {
      "cell_type": "code",
      "source": [
        "# 入力用\n"
      ],
      "metadata": {
        "id": "BVXjDteuIijL"
      },
      "execution_count": null,
      "outputs": []
    },
    {
      "cell_type": "markdown",
      "source": [
        "## 課題8"
      ],
      "metadata": {
        "id": "31u0ExX2IjWj"
      }
    },
    {
      "cell_type": "markdown",
      "source": [
        "課題7の場合を`n=4`として、nを自分で設定して出力できるようにしてください"
      ],
      "metadata": {
        "id": "zeOvmKarInpz"
      }
    },
    {
      "cell_type": "markdown",
      "source": [
        "＜例＞ n=5の場合  \n",
        "\n",
        "![AlTnu1k.png](https://imgur.com/AlTnu1k.png)"
      ],
      "metadata": {
        "id": "2uLR5sbKIov2"
      }
    },
    {
      "cell_type": "code",
      "source": [
        "# 入力用\n"
      ],
      "metadata": {
        "id": "TXJaIVbYI_Cd"
      },
      "execution_count": null,
      "outputs": []
    }
  ]
}