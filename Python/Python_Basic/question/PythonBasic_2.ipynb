{
  "nbformat": 4,
  "nbformat_minor": 0,
  "metadata": {
    "colab": {
      "provenance": [],
      "include_colab_link": true
    },
    "kernelspec": {
      "name": "python3",
      "display_name": "Python 3"
    },
    "language_info": {
      "name": "python"
    }
  },
  "cells": [
    {
      "cell_type": "markdown",
      "metadata": {
        "id": "view-in-github",
        "colab_type": "text"
      },
      "source": [
        "<a href=\"https://colab.research.google.com/github/Tomato-in-Japan/Prmn2023a/blob/main/Python/Python_Basic/question/PythonBasic_2.ipynb\" target=\"_parent\"><img src=\"https://colab.research.google.com/assets/colab-badge.svg\" alt=\"Open In Colab\"/></a>"
      ]
    },
    {
      "cell_type": "markdown",
      "source": [
        "# 第2章 課題"
      ],
      "metadata": {
        "id": "C44SsXDACtHu"
      }
    },
    {
      "cell_type": "markdown",
      "source": [
        "## 課題1"
      ],
      "metadata": {
        "id": "OnkezWHRCwr9"
      }
    },
    {
      "cell_type": "markdown",
      "source": [
        "for文を使って、以下のように出力してください"
      ],
      "metadata": {
        "id": "q32rK-cECzCl"
      }
    },
    {
      "cell_type": "markdown",
      "source": [
        "![oSFeQoX.png](https://i.imgur.com/oSFeQoX.png)"
      ],
      "metadata": {
        "id": "FxMcxznVB6cI"
      }
    },
    {
      "cell_type": "code",
      "source": [
        "def p1():\n",
        "  print(\"*\",end=\"\")\n",
        "def p2():\n",
        "  print(\" \",end=\"\")\n",
        "m1=4\n",
        "if(m1>1):\n",
        "  for i1 in range(1,m1+1,1):\n",
        "    for i2 in range(0,m1-i1,1):\n",
        "      p2()\n",
        "    for i2 in range(0,2*i1-1,1):\n",
        "      p1()\n",
        "    print()\n"
      ],
      "metadata": {
        "id": "iBFSsrdRC5Zt",
        "colab": {
          "base_uri": "https://localhost:8080/"
        },
        "outputId": "f1a29433-a28f-48aa-be6e-57cc8e2d1eca"
      },
      "execution_count": null,
      "outputs": [
        {
          "output_type": "stream",
          "name": "stdout",
          "text": [
            "   *\n",
            "  ***\n",
            " *****\n",
            "*******\n"
          ]
        }
      ]
    },
    {
      "cell_type": "markdown",
      "source": [
        "## 課題2"
      ],
      "metadata": {
        "id": "gIn-UqGTCagu"
      }
    },
    {
      "cell_type": "markdown",
      "source": [
        "課題1の場合を`n=4`として、nを自分で設定して出力できるようにしてください"
      ],
      "metadata": {
        "id": "ltdiEdqYDFy8"
      }
    },
    {
      "cell_type": "markdown",
      "source": [
        "＜例＞ n=5の場合  \n",
        "![o5NjugQ.png](https://imgur.com/o5NjugQ.png)"
      ],
      "metadata": {
        "id": "hw0FM8BRDHz1"
      }
    },
    {
      "cell_type": "code",
      "source": [
        "def p1():\n",
        "  print(\"*\",end=\"\")\n",
        "def p2():\n",
        "  print(\" \",end=\"\")\n",
        "m1=int(input(\"n=\"))\n",
        "if(m1>1):\n",
        "  for i1 in range(1,m1+1,1):\n",
        "    for i2 in range(0,m1-i1,1):\n",
        "      p2()\n",
        "    for i2 in range(0,2*i1-1,1):\n",
        "      p1()\n",
        "    print()\n"
      ],
      "metadata": {
        "id": "upd76Tv-FrIB",
        "colab": {
          "base_uri": "https://localhost:8080/"
        },
        "outputId": "2ac28d09-2e16-4aa7-a763-4e361f43fe5f"
      },
      "execution_count": null,
      "outputs": [
        {
          "output_type": "stream",
          "name": "stdout",
          "text": [
            "n=5\n",
            "    *\n",
            "   ***\n",
            "  *****\n",
            " *******\n",
            "*********\n"
          ]
        }
      ]
    },
    {
      "cell_type": "markdown",
      "source": [
        "## 課題3"
      ],
      "metadata": {
        "id": "tLMJvwBDE7wT"
      }
    },
    {
      "cell_type": "markdown",
      "source": [
        "for文を使って、以下のように出力してください"
      ],
      "metadata": {
        "id": "vZNvWsG7E99q"
      }
    },
    {
      "cell_type": "markdown",
      "source": [
        "![oSirXec.png](https://imgur.com/oSirXec.png)"
      ],
      "metadata": {
        "id": "ijOV-ilXGDNR"
      }
    },
    {
      "cell_type": "code",
      "source": [
        "def p1():\n",
        "  print(\"*\",end=\"\")\n",
        "def p2():\n",
        "  print(\" \",end=\"\")\n",
        "m1=4\n",
        "if(m1>1):\n",
        "  for i1 in range(1,2*m1,1):\n",
        "    if(m1>=i1):\n",
        "      for i2 in range(0,m1-i1,1):\n",
        "        p2()\n",
        "      for i2 in range(0,2*i1-1,1):\n",
        "        p1()\n",
        "    elif(m1<i1):\n",
        "      for i2 in range(0,i1-m1,1):\n",
        "        p2()\n",
        "      for i2 in range(0,2*m1-1-2*(i1-m1),1):\n",
        "        p1()      \n",
        "    print()"
      ],
      "metadata": {
        "id": "Q5Ob9uZpGIE3",
        "colab": {
          "base_uri": "https://localhost:8080/"
        },
        "outputId": "1bcc69d7-432d-4920-a63a-90cab14963e7"
      },
      "execution_count": 1,
      "outputs": [
        {
          "output_type": "stream",
          "name": "stdout",
          "text": [
            "   *\n",
            "  ***\n",
            " *****\n",
            "*******\n",
            " *****\n",
            "  ***\n",
            "   *\n"
          ]
        }
      ]
    },
    {
      "cell_type": "markdown",
      "source": [
        "## 課題4"
      ],
      "metadata": {
        "id": "Oh7whOPkGQ3I"
      }
    },
    {
      "cell_type": "markdown",
      "source": [
        "課題3の場合を`n=4`として、nを自分で設定して出力できるようにしてください"
      ],
      "metadata": {
        "id": "PnvT8MQbGS03"
      }
    },
    {
      "cell_type": "markdown",
      "source": [
        "＜例＞ n=5の場合  \n",
        "\n",
        "![my4J17V.png](https://i.imgur.com/my4J17V.png)"
      ],
      "metadata": {
        "id": "ZujkAbVMGzhn"
      }
    },
    {
      "cell_type": "code",
      "source": [
        "def p1():\n",
        "  print(\"*\",end=\"\")\n",
        "def p2():\n",
        "  print(\" \",end=\"\")\n",
        "m1=int(input(\"n=\"))\n",
        "if(m1>1):\n",
        "  for i1 in range(1,2*m1,1):\n",
        "    if(m1>=i1):\n",
        "      for i2 in range(0,m1-i1,1):\n",
        "        p2()\n",
        "      for i2 in range(0,2*i1-1,1):\n",
        "        p1()\n",
        "    elif(m1<i1):\n",
        "      for i2 in range(0,i1-m1,1):\n",
        "        p2()\n",
        "      for i2 in range(0,2*m1-1-2*(i1-m1),1):\n",
        "        p1()      \n",
        "    print()"
      ],
      "metadata": {
        "id": "hCFNQ7mWG99u",
        "colab": {
          "base_uri": "https://localhost:8080/"
        },
        "outputId": "ff9911c2-8dcf-42f2-dbe6-5707fa27f2c2"
      },
      "execution_count": null,
      "outputs": [
        {
          "output_type": "stream",
          "name": "stdout",
          "text": [
            "n=5\n",
            "    *\n",
            "   ***\n",
            "  *****\n",
            " *******\n",
            "*********\n",
            " *******\n",
            "  *****\n",
            "   ***\n",
            "    *\n"
          ]
        }
      ]
    },
    {
      "cell_type": "markdown",
      "source": [
        "## 課題5"
      ],
      "metadata": {
        "id": "R2MvOK4wHJlK"
      }
    },
    {
      "cell_type": "markdown",
      "source": [
        "for文を使って、以下のように出力してください"
      ],
      "metadata": {
        "id": "ddMIUoaKHcwd"
      }
    },
    {
      "cell_type": "markdown",
      "source": [
        "![vDUi5eM.png](https://imgur.com/vDUi5eM.png)"
      ],
      "metadata": {
        "id": "CD1cVUlWHLVO"
      }
    },
    {
      "cell_type": "code",
      "source": [
        "def p1():\n",
        "  print(\"*\",end=\"\")\n",
        "def p2():\n",
        "  print(\" \",end=\"\")\n",
        "m1=4\n",
        "if(m1>1):\n",
        "  for i1 in range(1,2*m1,1):\n",
        "    if(m1>i1):\n",
        "      for i2 in range(0,m1-i1,1):\n",
        "        p2()\n",
        "      for i2 in range(0,2*i1-1,1):\n",
        "        p1()\n",
        "      for i2 in range(0,(4*m1-3)-2*(m1-i1+2*i1-1),1):\n",
        "        p2()\n",
        "      for i2 in range(0,2*i1-1,1):\n",
        "        p1()\n",
        "    elif(m1==i1):\n",
        "      for i2 in range(0,4*i1-3):\n",
        "        p1()\n",
        "    elif(m1<i1):\n",
        "      for i2 in range(0,i1-m1,1):\n",
        "        p2()\n",
        "      for i2 in range(0,2*m1-1-2*(i1-m1),1):\n",
        "        p1()\n",
        "      for i2 in range(0,(4*m1-3)-2*(i1-m1+2*m1-1-2*(i1-m1)),1):\n",
        "        p2()\n",
        "      for i2 in range(0,2*m1-1-2*(i1-m1),1):\n",
        "        p1()    \n",
        "    print()"
      ],
      "metadata": {
        "id": "1pDkfJpUHd93",
        "colab": {
          "base_uri": "https://localhost:8080/"
        },
        "outputId": "322f41db-56c1-4bbd-a666-6cd12a1a0182"
      },
      "execution_count": 13,
      "outputs": [
        {
          "output_type": "stream",
          "name": "stdout",
          "text": [
            "---*-----*\n",
            "--***---***\n",
            "-*****-*****\n",
            "*************\n",
            "-*****-*****\n",
            "--***---***\n",
            "---*-----*\n"
          ]
        }
      ]
    },
    {
      "cell_type": "markdown",
      "source": [
        "## 課題6"
      ],
      "metadata": {
        "id": "oubbafOBHerl"
      }
    },
    {
      "cell_type": "markdown",
      "source": [
        "課題5の場合を`n=4`として、nを自分で設定して出力できるようにしてください"
      ],
      "metadata": {
        "id": "7SzgFdC-HzG9"
      }
    },
    {
      "cell_type": "markdown",
      "source": [
        "＜例＞ n=5の場合  \n",
        "\n",
        "![udkVlYG.png](https://imgur.com/udkVlYG.png)"
      ],
      "metadata": {
        "id": "LY8g9PVPH2OW"
      }
    },
    {
      "cell_type": "code",
      "source": [
        "def p1():\n",
        "  print(\"*\",end=\"\")\n",
        "def p2():\n",
        "  print(\" \",end=\"\")\n",
        "m1=int(input(\"n=\"))\n",
        "if(m1>1):\n",
        "  for i1 in range(1,2*m1,1):\n",
        "    if(m1>i1):\n",
        "      for i2 in range(0,m1-i1,1):\n",
        "        p2()\n",
        "      for i2 in range(0,2*i1-1,1):\n",
        "        p1()\n",
        "      for i2 in range(0,(4*m1-3)-2*(m1-i1+2*i1-1),1):\n",
        "        p2()\n",
        "      for i2 in range(0,2*i1-1,1):\n",
        "        p1()\n",
        "    elif(m1==i1):\n",
        "      for i2 in range(0,4*i1-3):\n",
        "        p1()\n",
        "    elif(m1<i1):\n",
        "      for i2 in range(0,i1-m1,1):\n",
        "        p2()\n",
        "      for i2 in range(0,2*m1-1-2*(i1-m1),1):\n",
        "        p1()\n",
        "      for i2 in range(0,(4*m1-3)-2*(i1-m1+2*m1-1-2*(i1-m1)),1):\n",
        "        p2()\n",
        "      for i2 in range(0,2*m1-1-2*(i1-m1),1):\n",
        "        p1()    \n",
        "    print()"
      ],
      "metadata": {
        "id": "XZOK5ulbH-tu",
        "colab": {
          "base_uri": "https://localhost:8080/"
        },
        "outputId": "013f8943-b8ae-4d58-de30-966b9adfbe08"
      },
      "execution_count": 14,
      "outputs": [
        {
          "output_type": "stream",
          "name": "stdout",
          "text": [
            "n=5\n",
            "    *       *\n",
            "   ***     ***\n",
            "  *****   *****\n",
            " ******* *******\n",
            "*****************\n",
            " ******* *******\n",
            "  *****   *****\n",
            "   ***     ***\n",
            "    *       *\n"
          ]
        }
      ]
    },
    {
      "cell_type": "markdown",
      "source": [
        "## 課題7"
      ],
      "metadata": {
        "id": "ouqTUmPQIKGF"
      }
    },
    {
      "cell_type": "markdown",
      "source": [
        "for文を使って、以下のように出力してください"
      ],
      "metadata": {
        "id": "WHSxdOHuIMRM"
      }
    },
    {
      "cell_type": "markdown",
      "source": [
        "![IuP0M16.png](https://imgur.com/IuP0M16.png)"
      ],
      "metadata": {
        "id": "-G--WFTkIM8s"
      }
    },
    {
      "cell_type": "code",
      "source": [
        "def p1():\n",
        "  print(\"*\",end=\"\")\n",
        "def p2():\n",
        "  print(\" \",end=\"\")\n",
        "m1=4\n",
        "for i3 in range(0,2,1):\n",
        "  for i1 in range(1,2*m1,1):\n",
        "    if(i3==0 and 2*m1-1==i1):\n",
        "      break\n",
        "    if(m1>i1):\n",
        "      for i2 in range(0,m1-i1,1):\n",
        "        p2()\n",
        "      for i2 in range(0,2*i1-1,1):\n",
        "        p1()\n",
        "      for i2 in range(0,(4*m1-3)-2*(m1-i1+2*i1-1),1):\n",
        "        p2()\n",
        "      for i2 in range(0,2*i1-1,1):\n",
        "        p1()\n",
        "    elif(m1==i1):\n",
        "      for i2 in range(0,4*i1-3):\n",
        "        p1()\n",
        "    elif(m1<i1):\n",
        "      for i2 in range(0,i1-m1,1):\n",
        "        p2()\n",
        "      for i2 in range(0,2*m1-1-2*(i1-m1),1):\n",
        "        p1()\n",
        "      for i2 in range(0,(4*m1-3)-2*(i1-m1+2*m1-1-2*(i1-m1)),1):\n",
        "        p2()\n",
        "      for i2 in range(0,2*m1-1-2*(i1-m1),1):\n",
        "        p1()    \n",
        "    print(\"\")"
      ],
      "metadata": {
        "id": "BVXjDteuIijL",
        "outputId": "1fb3dc23-e258-4da9-f707-e1a5999c9925",
        "colab": {
          "base_uri": "https://localhost:8080/"
        }
      },
      "execution_count": 24,
      "outputs": [
        {
          "output_type": "stream",
          "name": "stdout",
          "text": [
            "   *     *\n",
            "  ***   ***\n",
            " ***** *****\n",
            "*************\n",
            " ***** *****\n",
            "  ***   ***\n",
            "   *     *\n",
            "  ***   ***\n",
            " ***** *****\n",
            "*************\n",
            " ***** *****\n",
            "  ***   ***\n",
            "   *     *\n"
          ]
        }
      ]
    },
    {
      "cell_type": "markdown",
      "source": [
        "## 課題8"
      ],
      "metadata": {
        "id": "31u0ExX2IjWj"
      }
    },
    {
      "cell_type": "markdown",
      "source": [
        "課題7の場合を`n=4`として、nを自分で設定して出力できるようにしてください"
      ],
      "metadata": {
        "id": "zeOvmKarInpz"
      }
    },
    {
      "cell_type": "markdown",
      "source": [
        "＜例＞ n=5の場合  \n",
        "\n",
        "![AlTnu1k.png](https://imgur.com/AlTnu1k.png)"
      ],
      "metadata": {
        "id": "2uLR5sbKIov2"
      }
    },
    {
      "cell_type": "code",
      "source": [
        "def p1():\n",
        "  print(\"*\",end=\"\")\n",
        "def p2():\n",
        "  print(\" \",end=\"\")\n",
        "m1=int(input(\"n=\"))\n",
        "for i3 in range(0,2,1):\n",
        "  for i1 in range(1,2*m1,1):\n",
        "    if(i3==0 and 2*m1-1==i1):\n",
        "      break\n",
        "    if(m1>i1):\n",
        "      for i2 in range(0,m1-i1,1):\n",
        "        p2()\n",
        "      for i2 in range(0,2*i1-1,1):\n",
        "        p1()\n",
        "      for i2 in range(0,(4*m1-3)-2*(m1-i1+2*i1-1),1):\n",
        "        p2()\n",
        "      for i2 in range(0,2*i1-1,1):\n",
        "        p1()\n",
        "    elif(m1==i1):\n",
        "      for i2 in range(0,4*i1-3):\n",
        "        p1()\n",
        "    elif(m1<i1):\n",
        "      for i2 in range(0,i1-m1,1):\n",
        "        p2()\n",
        "      for i2 in range(0,2*m1-1-2*(i1-m1),1):\n",
        "        p1()\n",
        "      for i2 in range(0,(4*m1-3)-2*(i1-m1+2*m1-1-2*(i1-m1)),1):\n",
        "        p2()\n",
        "      for i2 in range(0,2*m1-1-2*(i1-m1),1):\n",
        "        p1()    \n",
        "    print(\"\")"
      ],
      "metadata": {
        "id": "TXJaIVbYI_Cd",
        "outputId": "602bc33b-1cf0-454c-e809-14cb07f1c665",
        "colab": {
          "base_uri": "https://localhost:8080/"
        }
      },
      "execution_count": 25,
      "outputs": [
        {
          "output_type": "stream",
          "name": "stdout",
          "text": [
            "n=9\n",
            "        *               *\n",
            "       ***             ***\n",
            "      *****           *****\n",
            "     *******         *******\n",
            "    *********       *********\n",
            "   ***********     ***********\n",
            "  *************   *************\n",
            " *************** ***************\n",
            "*********************************\n",
            " *************** ***************\n",
            "  *************   *************\n",
            "   ***********     ***********\n",
            "    *********       *********\n",
            "     *******         *******\n",
            "      *****           *****\n",
            "       ***             ***\n",
            "        *               *\n",
            "       ***             ***\n",
            "      *****           *****\n",
            "     *******         *******\n",
            "    *********       *********\n",
            "   ***********     ***********\n",
            "  *************   *************\n",
            " *************** ***************\n",
            "*********************************\n",
            " *************** ***************\n",
            "  *************   *************\n",
            "   ***********     ***********\n",
            "    *********       *********\n",
            "     *******         *******\n",
            "      *****           *****\n",
            "       ***             ***\n",
            "        *               *\n"
          ]
        }
      ]
    }
  ]
}